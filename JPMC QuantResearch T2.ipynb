{
 "cells": [
  {
   "cell_type": "markdown",
   "metadata": {},
   "source": [
    "# Gas Storage Contract Pricing Model\n",
    "\n",
    "\n",
    "I'm developing a prototype gas storage contract pricing model, allowing clients flexibility in choosing injection and withdrawal dates. The model considers key parameters like commodity prices, injection/withdrawal rates, maximum storage volume, and storage costs. Testing with diverse inputs ensures accuracy, paving the way for a comprehensive and flexible pricing solution."
   ]
  },
  {
   "cell_type": "code",
   "execution_count": 1,
   "id": "7ba6ee42",
   "metadata": {},
   "outputs": [],
   "source": [
    "# importing libraries\n",
    "\n",
    "import pandas as pd\n",
    "import numpy as np\n",
    "import datetime"
   ]
  },
  {
   "cell_type": "code",
   "execution_count": 2,
   "id": "79552a49",
   "metadata": {},
   "outputs": [],
   "source": [
    "# reading the data from a local csv file\n",
    "\n",
    "df = pd.read_csv(\"C:\\\\Users\\\\24493\\\\OneDrive\\\\Data Science Notes\\\\Personal Projects\\\\jpmorgan_qr\\\\Nat_Gas.csv\")"
   ]
  },
  {
   "cell_type": "code",
   "execution_count": 3,
   "id": "8e898a97",
   "metadata": {
    "scrolled": true
   },
   "outputs": [
    {
     "name": "stdout",
     "output_type": "stream",
     "text": [
      "<class 'pandas.core.frame.DataFrame'>\n",
      "RangeIndex: 48 entries, 0 to 47\n",
      "Data columns (total 2 columns):\n",
      " #   Column  Non-Null Count  Dtype         \n",
      "---  ------  --------------  -----         \n",
      " 0   Dates   48 non-null     datetime64[ns]\n",
      " 1   Prices  48 non-null     float64       \n",
      "dtypes: datetime64[ns](1), float64(1)\n",
      "memory usage: 896.0 bytes\n"
     ]
    }
   ],
   "source": [
    "df['Dates'] = pd.to_datetime(df['Dates'])\n",
    "\n",
    "df.info()"
   ]
  },
  {
   "cell_type": "code",
   "execution_count": 4,
   "id": "1a60ebd0",
   "metadata": {},
   "outputs": [
    {
     "data": {
      "text/html": [
       "<div>\n",
       "<style scoped>\n",
       "    .dataframe tbody tr th:only-of-type {\n",
       "        vertical-align: middle;\n",
       "    }\n",
       "\n",
       "    .dataframe tbody tr th {\n",
       "        vertical-align: top;\n",
       "    }\n",
       "\n",
       "    .dataframe thead th {\n",
       "        text-align: right;\n",
       "    }\n",
       "</style>\n",
       "<table border=\"1\" class=\"dataframe\">\n",
       "  <thead>\n",
       "    <tr style=\"text-align: right;\">\n",
       "      <th></th>\n",
       "      <th>Dates</th>\n",
       "      <th>Prices</th>\n",
       "    </tr>\n",
       "  </thead>\n",
       "  <tbody>\n",
       "    <tr>\n",
       "      <th>0</th>\n",
       "      <td>2020-10-31</td>\n",
       "      <td>10.1</td>\n",
       "    </tr>\n",
       "    <tr>\n",
       "      <th>1</th>\n",
       "      <td>2020-11-30</td>\n",
       "      <td>10.3</td>\n",
       "    </tr>\n",
       "    <tr>\n",
       "      <th>2</th>\n",
       "      <td>2020-12-31</td>\n",
       "      <td>11.0</td>\n",
       "    </tr>\n",
       "    <tr>\n",
       "      <th>3</th>\n",
       "      <td>2021-01-31</td>\n",
       "      <td>10.9</td>\n",
       "    </tr>\n",
       "    <tr>\n",
       "      <th>4</th>\n",
       "      <td>2021-02-28</td>\n",
       "      <td>10.9</td>\n",
       "    </tr>\n",
       "  </tbody>\n",
       "</table>\n",
       "</div>"
      ],
      "text/plain": [
       "       Dates  Prices\n",
       "0 2020-10-31    10.1\n",
       "1 2020-11-30    10.3\n",
       "2 2020-12-31    11.0\n",
       "3 2021-01-31    10.9\n",
       "4 2021-02-28    10.9"
      ]
     },
     "execution_count": 4,
     "metadata": {},
     "output_type": "execute_result"
    }
   ],
   "source": [
    "df.head()"
   ]
  },
  {
   "cell_type": "markdown",
   "metadata": {},
   "source": [
    "### Creating a Model\n",
    "This creates a pop-up window where the user takes the injections and withdrawals information and estimates a contract value taking into account the monthly storage costs of natural gas."
   ]
  },
  {
   "cell_type": "code",
   "execution_count": 5,
   "id": "3bbc6bc7",
   "metadata": {},
   "outputs": [],
   "source": [
    "def model():\n",
    "    \n",
    "    inj_date = input(\"Injection Date (DD-MM-YYYY): \")\n",
    "    inj_date = pd.to_datetime(inj_date, format='%d-%m-%Y')\n",
    "    inj_rate = input(\"Injection Rate: \")\n",
    "    inj_rate = float(inj_rate)\n",
    "    \n",
    "    inj_value = inj_rate * df.loc[df[\"Dates\"] == inj_date, \"Prices\"].iloc[0]\n",
    "    \n",
    "    with_date= input(\"Withdrawal Date (DD-MM-YYYY): \") \n",
    "    with_date= pd.to_datetime(with_date, format='%d-%m-%Y')\n",
    "    with_rate = input(\"Withdrawal Rate: \")\n",
    "    with_rate = float(with_rate)\n",
    "    \n",
    "    with_value = with_rate * df.loc[df[\"Dates\"] == with_date, \"Prices\"].iloc[0]\n",
    "    \n",
    "    \n",
    "    storage_months = (inj_date.year - with_date.year) * 12 + (inj_date.month - with_date.month)\n",
    "    storage_monthly_costs = input(\"Monthly Storage Cost: \")\n",
    "    storage_monthly_costs = float(storage_monthly_costs)\n",
    "    total_storage_costs = storage_monthly_costs * storage_months\n",
    "    \n",
    "    \n",
    "    contractvalue = with_value - inj_value - total_storage_costs\n",
    "    \n",
    "    return contractvalue"
   ]
  },
  {
   "cell_type": "code",
   "execution_count": 6,
   "id": "363dd047",
   "metadata": {
    "scrolled": true
   },
   "outputs": [
    {
     "data": {
      "text/plain": [
       "15.0"
      ]
     },
     "execution_count": 6,
     "metadata": {},
     "output_type": "execute_result"
    }
   ],
   "source": [
    "model()"
   ]
  }
 ],
 "metadata": {
  "kernelspec": {
   "display_name": "Python 3 (ipykernel)",
   "language": "python",
   "name": "python3"
  },
  "language_info": {
   "codemirror_mode": {
    "name": "ipython",
    "version": 3
   },
   "file_extension": ".py",
   "mimetype": "text/x-python",
   "name": "python",
   "nbconvert_exporter": "python",
   "pygments_lexer": "ipython3",
   "version": "3.9.12"
  }
 },
 "nbformat": 4,
 "nbformat_minor": 5
}
